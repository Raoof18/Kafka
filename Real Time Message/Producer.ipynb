{
 "cells": [
  {
   "cell_type": "code",
   "execution_count": null,
   "id": "43109ebd-3742-4893-a009-f24f22a21574",
   "metadata": {},
   "outputs": [],
   "source": [
    "from kafka.admin import KafkaAdminClient, NewTopic\n",
    "from kafka import KafkaProducer\n",
    "import json\n",
    "import time\n",
    "import random"
   ]
  },
  {
   "cell_type": "code",
   "execution_count": null,
   "id": "5a85eee5-ac70-40ef-985c-67074ada5afb",
   "metadata": {},
   "outputs": [],
   "source": [
    "topic_name = 'synthetic-data'"
   ]
  },
  {
   "cell_type": "code",
   "execution_count": null,
   "id": "f25112b2-5d73-4565-9d24-027435a53b2b",
   "metadata": {},
   "outputs": [],
   "source": [
    "admin_client = KafkaAdminClient(\n",
    "    bootstrap_servers='localhost:9092',\n",
    "    client_id='topic_creator'\n",
    ")"
   ]
  },
  {
   "cell_type": "code",
   "execution_count": null,
   "id": "d21c6e2d-0eb8-482d-9203-b45f84b7c3ed",
   "metadata": {},
   "outputs": [],
   "source": [
    "topic_list = []\n",
    "topic_list.append(NewTopic(name=topic_name, num_partitions=1, replication_factor=1))"
   ]
  },
  {
   "cell_type": "code",
   "execution_count": null,
   "id": "139cbba6-a3bb-4c47-bb98-788e672ab4e0",
   "metadata": {},
   "outputs": [],
   "source": [
    "try:\n",
    "    admin_client.create_topics(new_topics=topic_list, validate_only=False)\n",
    "    print(f\"Topic '{topic_name}' created successfully.\")\n",
    "except Exception as e:\n",
    "    print(f\"An error occurred while creating the topic: {e}\")"
   ]
  },
  {
   "cell_type": "code",
   "execution_count": null,
   "id": "0b6d59a6-3a09-448a-9d50-4e01c4f6ba04",
   "metadata": {},
   "outputs": [],
   "source": [
    "admin_client.close()"
   ]
  },
  {
   "cell_type": "code",
   "execution_count": null,
   "id": "b45a3ad6-4222-41f8-959c-638c71490ed3",
   "metadata": {},
   "outputs": [],
   "source": [
    "producer = KafkaProducer(\n",
    "    bootstrap_servers=['localhost:9092'],\n",
    "    value_serializer=lambda x: json.dumps(x).encode('utf-8')\n",
    ")\n"
   ]
  },
  {
   "cell_type": "code",
   "execution_count": null,
   "id": "bd93e68b-3546-4fd3-90e1-b5ad88c18c89",
   "metadata": {},
   "outputs": [],
   "source": [
    "def generate_synthetic_data():\n",
    "    data = {\n",
    "        'sensor_id': random.randint(1, 100),\n",
    "        'temperature': round(random.uniform(20.0, 30.0), 2),\n",
    "        'timestamp': time.time()\n",
    "    }\n",
    "    return data\n"
   ]
  },
  {
   "cell_type": "code",
   "execution_count": null,
   "id": "532f6be9-c92c-4ac8-813e-a9d4e7e371c3",
   "metadata": {},
   "outputs": [],
   "source": [
    "try:\n",
    "    while True:\n",
    "        data = generate_synthetic_data()\n",
    "        producer.send('synthetic-data', value=data)\n",
    "        print(f\"Sent: {data}\")\n",
    "        time.sleep(1)\n",
    "except KeyboardInterrupt:\n",
    "    print(\"Data generation stopped.\")\n"
   ]
  },
  {
   "cell_type": "code",
   "execution_count": null,
   "id": "eea1216d-5c25-4a65-8992-061cc2b4599a",
   "metadata": {},
   "outputs": [],
   "source": []
  }
 ],
 "metadata": {
  "kernelspec": {
   "display_name": "Python 3 (ipykernel)",
   "language": "python",
   "name": "python3"
  },
  "language_info": {
   "codemirror_mode": {
    "name": "ipython",
    "version": 3
   },
   "file_extension": ".py",
   "mimetype": "text/x-python",
   "name": "python",
   "nbconvert_exporter": "python",
   "pygments_lexer": "ipython3",
   "version": "3.11.7"
  }
 },
 "nbformat": 4,
 "nbformat_minor": 5
}
