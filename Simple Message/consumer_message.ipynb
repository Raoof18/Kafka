{
 "cells": [
  {
   "cell_type": "code",
   "execution_count": 1,
   "id": "6eb602b5-1b11-46d5-9a7f-a4d5a6c3b38b",
   "metadata": {},
   "outputs": [
    {
     "name": "stdout",
     "output_type": "stream",
     "text": [
      "Consumer is listening for messages... (Press Ctrl+C to exit)\n",
      "Received: {'message': 'Hi'}\n",
      "Received: {'message': 'Friday'}\n",
      "Consumer interrupted.\n"
     ]
    }
   ],
   "source": [
    "from kafka import KafkaConsumer\n",
    "import json\n",
    "\n",
    "\n",
    "topic_name = 'simple-message-topic'\n",
    "\n",
    "\n",
    "consumer = KafkaConsumer(\n",
    "    topic_name,\n",
    "    bootstrap_servers=['localhost:9092'],\n",
    "    auto_offset_reset='latest', \n",
    "    enable_auto_commit=True,\n",
    "    group_id='my-group',\n",
    "    value_deserializer=lambda x: json.loads(x.decode('utf-8'))\n",
    ")\n",
    "\n",
    "print(\"Consumer is listening for messages... (Press Ctrl+C to exit)\")\n",
    "\n",
    "try:\n",
    "    for message in consumer:\n",
    "        print(f\"Received: {message.value}\")\n",
    "except KeyboardInterrupt:\n",
    "    print(\"Consumer interrupted.\")\n",
    "finally:\n",
    "    consumer.close()"
   ]
  }
 ],
 "metadata": {
  "kernelspec": {
   "display_name": "Python 3 (ipykernel)",
   "language": "python",
   "name": "python3"
  },
  "language_info": {
   "codemirror_mode": {
    "name": "ipython",
    "version": 3
   },
   "file_extension": ".py",
   "mimetype": "text/x-python",
   "name": "python",
   "nbconvert_exporter": "python",
   "pygments_lexer": "ipython3",
   "version": "3.11.7"
  }
 },
 "nbformat": 4,
 "nbformat_minor": 5
}
