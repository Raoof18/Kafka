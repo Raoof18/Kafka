{
 "cells": [
  {
   "cell_type": "code",
   "execution_count": 1,
   "id": "f698d014-7009-4c1f-8cf7-16ff1727b6ce",
   "metadata": {},
   "outputs": [
    {
     "name": "stdout",
     "output_type": "stream",
     "text": [
      "Defaulting to user installation because normal site-packages is not writeableNote: you may need to restart the kernel to use updated packages.\n",
      "\n",
      "Requirement already satisfied: kafka-python in c:\\users\\asus\\appdata\\roaming\\python\\python311\\site-packages (1.4.7)\n"
     ]
    }
   ],
   "source": [
    "pip install kafka-python"
   ]
  },
  {
   "cell_type": "code",
   "execution_count": 2,
   "id": "86bdfd9a-6d82-4798-afa7-84346278bd09",
   "metadata": {},
   "outputs": [
    {
     "name": "stdout",
     "output_type": "stream",
     "text": [
      "An error occurred while creating the topic: [Error 36] TopicAlreadyExistsError: Request 'CreateTopicsRequest_v2(create_topic_requests=[(topic='simple-message-topic', num_partitions=1, replication_factor=1, replica_assignment=[], configs=[])], timeout=30000, validate_only=False)' failed with response 'CreateTopicsResponse_v2(throttle_time_ms=0, topic_errors=[(topic='simple-message-topic', error_code=36, error_message=\"Topic 'simple-message-topic' already exists.\")])'.\n"
     ]
    }
   ],
   "source": [
    "from kafka.admin import KafkaAdminClient, NewTopic\n",
    "\n",
    "topic_name = 'simple-message-topic'\n",
    "\n",
    "admin_client = KafkaAdminClient(\n",
    "    bootstrap_servers='localhost:9092',\n",
    "    client_id='topic_creator'\n",
    ")\n",
    "\n",
    "topic_list = [NewTopic(name=topic_name, num_partitions=1, replication_factor=1)]\n",
    "\n",
    "try:\n",
    "    admin_client.create_topics(new_topics=topic_list, validate_only=False)\n",
    "    print(f\"Topic '{topic_name}' created successfully.\")\n",
    "except Exception as e:\n",
    "    print(f\"An error occurred while creating the topic: {e}\")\n",
    "\n",
    "admin_client.close()"
   ]
  },
  {
   "cell_type": "code",
   "execution_count": 3,
   "id": "a5122b87-57e2-4afa-ad32-a4bb4b6b2dc3",
   "metadata": {},
   "outputs": [
    {
     "name": "stdout",
     "output_type": "stream",
     "text": [
      "Producer is ready. Type your messages below (type 'exit' to quit).\n"
     ]
    },
    {
     "name": "stdin",
     "output_type": "stream",
     "text": [
      " Hi\n"
     ]
    },
    {
     "name": "stdout",
     "output_type": "stream",
     "text": [
      "Sent: {'message': 'Hi'}\n"
     ]
    },
    {
     "name": "stdin",
     "output_type": "stream",
     "text": [
      " Friday\n"
     ]
    },
    {
     "name": "stdout",
     "output_type": "stream",
     "text": [
      "Sent: {'message': 'Friday'}\n"
     ]
    },
    {
     "name": "stdin",
     "output_type": "stream",
     "text": [
      " exit\n"
     ]
    },
    {
     "name": "stdout",
     "output_type": "stream",
     "text": [
      "Exiting producer.\n"
     ]
    }
   ],
   "source": [
    "from kafka import KafkaProducer\n",
    "import json\n",
    "\n",
    "topic_name = 'simple-message-topic'\n",
    "\n",
    "producer = KafkaProducer(\n",
    "    bootstrap_servers=['localhost:9092'],\n",
    "    value_serializer=lambda x: json.dumps(x).encode('utf-8')\n",
    ")\n",
    "\n",
    "print(\"Producer is ready. Type your messages below (type 'exit' to quit).\")\n",
    "\n",
    "try:\n",
    "    while True:\n",
    "        \n",
    "        user_input = input()\n",
    "        if user_input.lower() == 'exit':\n",
    "            print(\"Exiting producer.\")\n",
    "            break\n",
    "        \n",
    "        message = {'message': user_input}\n",
    "        \n",
    "        producer.send(topic_name, value=message)\n",
    "        producer.flush()  \n",
    "        print(f\"Sent: {message}\")\n",
    "except KeyboardInterrupt:\n",
    "    print(\"Producer interrupted.\")\n",
    "finally:\n",
    "    producer.close()"
   ]
  },
  {
   "cell_type": "code",
   "execution_count": null,
   "id": "5fc601b2-1b4b-48f4-a91e-1fa7dba43f2a",
   "metadata": {},
   "outputs": [],
   "source": []
  }
 ],
 "metadata": {
  "kernelspec": {
   "display_name": "Python 3 (ipykernel)",
   "language": "python",
   "name": "python3"
  },
  "language_info": {
   "codemirror_mode": {
    "name": "ipython",
    "version": 3
   },
   "file_extension": ".py",
   "mimetype": "text/x-python",
   "name": "python",
   "nbconvert_exporter": "python",
   "pygments_lexer": "ipython3",
   "version": "3.11.7"
  }
 },
 "nbformat": 4,
 "nbformat_minor": 5
}
